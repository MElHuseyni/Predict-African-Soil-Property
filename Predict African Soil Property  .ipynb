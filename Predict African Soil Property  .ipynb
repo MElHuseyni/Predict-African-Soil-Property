{
 "cells": [
  {
   "cell_type": "markdown",
   "metadata": {},
   "source": [
    "# Africa Soil Property Prediction Challenge "
   ]
  },
  {
   "cell_type": "markdown",
   "metadata": {},
   "source": [
    "**SOC, pH, Ca, P, Sand** are the five target variables for predictions. The data have been monotonously transformed from the original measurements and thus include negative values. "
   ]
  },
  {
   "cell_type": "code",
   "execution_count": 1,
   "metadata": {},
   "outputs": [],
   "source": [
    "#https://www.kaggle.com/c/afsis-soil-properties"
   ]
  },
  {
   "cell_type": "code",
   "execution_count": 2,
   "metadata": {},
   "outputs": [],
   "source": [
    "import pandas as pd\n",
    "import numpy as np\n",
    "from sklearn.linear_model import Lasso,Ridge\n",
    "from sklearn.ensemble import RandomForestRegressor\n",
    "from sklearn.decomposition import PCA\n",
    "from sklearn.model_selection import train_test_split\n",
    "from sklearn.preprocessing import LabelEncoder\n",
    "from sklearn.metrics import r2_score, mean_squared_error,auc,explained_variance_score\n",
    "\n",
    "\n"
   ]
  },
  {
   "cell_type": "code",
   "execution_count": 3,
   "metadata": {},
   "outputs": [
    {
     "data": {
      "text/html": [
       "<div>\n",
       "<style scoped>\n",
       "    .dataframe tbody tr th:only-of-type {\n",
       "        vertical-align: middle;\n",
       "    }\n",
       "\n",
       "    .dataframe tbody tr th {\n",
       "        vertical-align: top;\n",
       "    }\n",
       "\n",
       "    .dataframe thead th {\n",
       "        text-align: right;\n",
       "    }\n",
       "</style>\n",
       "<table border=\"1\" class=\"dataframe\">\n",
       "  <thead>\n",
       "    <tr style=\"text-align: right;\">\n",
       "      <th></th>\n",
       "      <th>PIDN</th>\n",
       "      <th>m7497.96</th>\n",
       "      <th>m7496.04</th>\n",
       "      <th>m7494.11</th>\n",
       "      <th>m7492.18</th>\n",
       "      <th>m7490.25</th>\n",
       "      <th>m7488.32</th>\n",
       "      <th>m7486.39</th>\n",
       "      <th>m7484.46</th>\n",
       "      <th>m7482.54</th>\n",
       "      <th>...</th>\n",
       "      <th>REF7</th>\n",
       "      <th>RELI</th>\n",
       "      <th>TMAP</th>\n",
       "      <th>TMFI</th>\n",
       "      <th>Depth</th>\n",
       "      <th>Ca</th>\n",
       "      <th>P</th>\n",
       "      <th>pH</th>\n",
       "      <th>SOC</th>\n",
       "      <th>Sand</th>\n",
       "    </tr>\n",
       "  </thead>\n",
       "  <tbody>\n",
       "    <tr>\n",
       "      <th>0</th>\n",
       "      <td>XNhoFZW5</td>\n",
       "      <td>0.302553</td>\n",
       "      <td>0.301137</td>\n",
       "      <td>0.299748</td>\n",
       "      <td>0.300354</td>\n",
       "      <td>0.302679</td>\n",
       "      <td>0.303799</td>\n",
       "      <td>0.301702</td>\n",
       "      <td>0.298936</td>\n",
       "      <td>0.298126</td>\n",
       "      <td>...</td>\n",
       "      <td>-0.646673</td>\n",
       "      <td>1.687734</td>\n",
       "      <td>0.190708</td>\n",
       "      <td>0.056843</td>\n",
       "      <td>Topsoil</td>\n",
       "      <td>-0.295749</td>\n",
       "      <td>-0.041336</td>\n",
       "      <td>-1.129366</td>\n",
       "      <td>0.353258</td>\n",
       "      <td>1.269748</td>\n",
       "    </tr>\n",
       "    <tr>\n",
       "      <th>1</th>\n",
       "      <td>9XNspFTd</td>\n",
       "      <td>0.270192</td>\n",
       "      <td>0.268555</td>\n",
       "      <td>0.266964</td>\n",
       "      <td>0.267938</td>\n",
       "      <td>0.271013</td>\n",
       "      <td>0.272346</td>\n",
       "      <td>0.269870</td>\n",
       "      <td>0.266976</td>\n",
       "      <td>0.266544</td>\n",
       "      <td>...</td>\n",
       "      <td>-0.646673</td>\n",
       "      <td>1.687734</td>\n",
       "      <td>0.190708</td>\n",
       "      <td>0.056843</td>\n",
       "      <td>Subsoil</td>\n",
       "      <td>-0.387442</td>\n",
       "      <td>-0.231552</td>\n",
       "      <td>-1.531538</td>\n",
       "      <td>-0.264023</td>\n",
       "      <td>1.692209</td>\n",
       "    </tr>\n",
       "    <tr>\n",
       "      <th>2</th>\n",
       "      <td>WDId41qG</td>\n",
       "      <td>0.317433</td>\n",
       "      <td>0.316265</td>\n",
       "      <td>0.314948</td>\n",
       "      <td>0.315224</td>\n",
       "      <td>0.316942</td>\n",
       "      <td>0.317764</td>\n",
       "      <td>0.316067</td>\n",
       "      <td>0.313874</td>\n",
       "      <td>0.313301</td>\n",
       "      <td>...</td>\n",
       "      <td>-0.814516</td>\n",
       "      <td>1.806660</td>\n",
       "      <td>0.190708</td>\n",
       "      <td>0.056843</td>\n",
       "      <td>Topsoil</td>\n",
       "      <td>-0.248601</td>\n",
       "      <td>-0.224635</td>\n",
       "      <td>-0.259551</td>\n",
       "      <td>0.064152</td>\n",
       "      <td>2.091835</td>\n",
       "    </tr>\n",
       "    <tr>\n",
       "      <th>3</th>\n",
       "      <td>JrrJf1mN</td>\n",
       "      <td>0.261116</td>\n",
       "      <td>0.259767</td>\n",
       "      <td>0.258384</td>\n",
       "      <td>0.259001</td>\n",
       "      <td>0.261310</td>\n",
       "      <td>0.262417</td>\n",
       "      <td>0.260534</td>\n",
       "      <td>0.258039</td>\n",
       "      <td>0.257246</td>\n",
       "      <td>...</td>\n",
       "      <td>-0.814516</td>\n",
       "      <td>1.806660</td>\n",
       "      <td>0.190708</td>\n",
       "      <td>0.056843</td>\n",
       "      <td>Subsoil</td>\n",
       "      <td>-0.332195</td>\n",
       "      <td>-0.318014</td>\n",
       "      <td>-0.577548</td>\n",
       "      <td>-0.318719</td>\n",
       "      <td>2.118477</td>\n",
       "    </tr>\n",
       "    <tr>\n",
       "      <th>4</th>\n",
       "      <td>ZoIitegA</td>\n",
       "      <td>0.260038</td>\n",
       "      <td>0.258425</td>\n",
       "      <td>0.256544</td>\n",
       "      <td>0.257030</td>\n",
       "      <td>0.259602</td>\n",
       "      <td>0.260786</td>\n",
       "      <td>0.258717</td>\n",
       "      <td>0.256352</td>\n",
       "      <td>0.255902</td>\n",
       "      <td>...</td>\n",
       "      <td>-0.780242</td>\n",
       "      <td>0.430513</td>\n",
       "      <td>0.190708</td>\n",
       "      <td>0.056843</td>\n",
       "      <td>Topsoil</td>\n",
       "      <td>-0.438350</td>\n",
       "      <td>-0.010210</td>\n",
       "      <td>-0.699135</td>\n",
       "      <td>-0.310905</td>\n",
       "      <td>2.164148</td>\n",
       "    </tr>\n",
       "  </tbody>\n",
       "</table>\n",
       "<p>5 rows × 3600 columns</p>\n",
       "</div>"
      ],
      "text/plain": [
       "       PIDN  m7497.96  m7496.04  m7494.11  m7492.18  m7490.25  m7488.32  \\\n",
       "0  XNhoFZW5  0.302553  0.301137  0.299748  0.300354  0.302679  0.303799   \n",
       "1  9XNspFTd  0.270192  0.268555  0.266964  0.267938  0.271013  0.272346   \n",
       "2  WDId41qG  0.317433  0.316265  0.314948  0.315224  0.316942  0.317764   \n",
       "3  JrrJf1mN  0.261116  0.259767  0.258384  0.259001  0.261310  0.262417   \n",
       "4  ZoIitegA  0.260038  0.258425  0.256544  0.257030  0.259602  0.260786   \n",
       "\n",
       "   m7486.39  m7484.46  m7482.54    ...         REF7      RELI      TMAP  \\\n",
       "0  0.301702  0.298936  0.298126    ...    -0.646673  1.687734  0.190708   \n",
       "1  0.269870  0.266976  0.266544    ...    -0.646673  1.687734  0.190708   \n",
       "2  0.316067  0.313874  0.313301    ...    -0.814516  1.806660  0.190708   \n",
       "3  0.260534  0.258039  0.257246    ...    -0.814516  1.806660  0.190708   \n",
       "4  0.258717  0.256352  0.255902    ...    -0.780242  0.430513  0.190708   \n",
       "\n",
       "       TMFI    Depth        Ca         P        pH       SOC      Sand  \n",
       "0  0.056843  Topsoil -0.295749 -0.041336 -1.129366  0.353258  1.269748  \n",
       "1  0.056843  Subsoil -0.387442 -0.231552 -1.531538 -0.264023  1.692209  \n",
       "2  0.056843  Topsoil -0.248601 -0.224635 -0.259551  0.064152  2.091835  \n",
       "3  0.056843  Subsoil -0.332195 -0.318014 -0.577548 -0.318719  2.118477  \n",
       "4  0.056843  Topsoil -0.438350 -0.010210 -0.699135 -0.310905  2.164148  \n",
       "\n",
       "[5 rows x 3600 columns]"
      ]
     },
     "execution_count": 3,
     "metadata": {},
     "output_type": "execute_result"
    }
   ],
   "source": [
    "filename = 'training.csv'\n",
    "train_frame = pd.read_csv(filename)\n",
    "train_frame.head(5)"
   ]
  },
  {
   "cell_type": "markdown",
   "metadata": {},
   "source": [
    "\n",
    "**Check number of missing values**"
   ]
  },
  {
   "cell_type": "code",
   "execution_count": 4,
   "metadata": {},
   "outputs": [
    {
     "data": {
      "text/plain": [
       "(1157, 3600)"
      ]
     },
     "execution_count": 4,
     "metadata": {},
     "output_type": "execute_result"
    }
   ],
   "source": [
    "train_frame.shape"
   ]
  },
  {
   "cell_type": "code",
   "execution_count": 5,
   "metadata": {},
   "outputs": [
    {
     "name": "stdout",
     "output_type": "stream",
     "text": [
      "<class 'pandas.core.frame.DataFrame'>\n",
      "RangeIndex: 1157 entries, 0 to 1156\n",
      "Columns: 3600 entries, PIDN to Sand\n",
      "dtypes: float64(3598), object(2)\n",
      "memory usage: 31.8+ MB\n"
     ]
    }
   ],
   "source": [
    "train_frame.info()"
   ]
  },
  {
   "cell_type": "code",
   "execution_count": 6,
   "metadata": {},
   "outputs": [
    {
     "data": {
      "text/plain": [
       "PIDN        0\n",
       "m7497.96    0\n",
       "m7496.04    0\n",
       "m7494.11    0\n",
       "m7492.18    0\n",
       "m7490.25    0\n",
       "m7488.32    0\n",
       "m7486.39    0\n",
       "m7484.46    0\n",
       "m7482.54    0\n",
       "m7480.61    0\n",
       "m7478.68    0\n",
       "m7476.75    0\n",
       "m7474.82    0\n",
       "m7472.89    0\n",
       "m7470.97    0\n",
       "m7469.04    0\n",
       "m7467.11    0\n",
       "m7465.18    0\n",
       "m7463.25    0\n",
       "m7461.32    0\n",
       "m7459.39    0\n",
       "m7457.47    0\n",
       "m7455.54    0\n",
       "m7453.61    0\n",
       "m7451.68    0\n",
       "m7449.75    0\n",
       "m7447.82    0\n",
       "m7445.89    0\n",
       "m7443.97    0\n",
       "           ..\n",
       "m615.188    0\n",
       "m613.259    0\n",
       "m611.331    0\n",
       "m609.402    0\n",
       "m607.474    0\n",
       "m605.545    0\n",
       "m603.617    0\n",
       "m601.688    0\n",
       "m599.76     0\n",
       "BSAN        0\n",
       "BSAS        0\n",
       "BSAV        0\n",
       "CTI         0\n",
       "ELEV        0\n",
       "EVI         0\n",
       "LSTD        0\n",
       "LSTN        0\n",
       "REF1        0\n",
       "REF2        0\n",
       "REF3        0\n",
       "REF7        0\n",
       "RELI        0\n",
       "TMAP        0\n",
       "TMFI        0\n",
       "Depth       0\n",
       "Ca          0\n",
       "P           0\n",
       "pH          0\n",
       "SOC         0\n",
       "Sand        0\n",
       "Length: 3600, dtype: int64"
      ]
     },
     "execution_count": 6,
     "metadata": {},
     "output_type": "execute_result"
    }
   ],
   "source": [
    "train_frame.isnull().sum()"
   ]
  },
  {
   "cell_type": "code",
   "execution_count": 7,
   "metadata": {},
   "outputs": [],
   "source": [
    "labelEncoder = LabelEncoder()\n",
    "output_columns = [ 'Ca','P','pH','SOC','Sand']\n",
    "output_labels = train_frame[output_columns].values\n",
    "train_frame.drop(output_columns,axis=1,inplace=True)\n",
    "del train_frame['PIDN']\n",
    "\n",
    "\n",
    "cat_columns = train_frame.dtypes.pipe(lambda x: x[x == 'object']).index\n",
    "for col in cat_columns:\n",
    "    train_frame[col] = labelEncoder.fit_transform(train_frame[col])\n",
    "   "
   ]
  },
  {
   "cell_type": "markdown",
   "metadata": {},
   "source": [
    "**In order to decrease the prediction error , and avoid overfitting, we use PCA to reduce the dimensionality Also it fast the training time**"
   ]
  },
  {
   "cell_type": "code",
   "execution_count": 8,
   "metadata": {},
   "outputs": [
    {
     "data": {
      "text/plain": [
       "array([0.70373743, 0.79193861, 0.85345842, ..., 1.        , 1.        ,\n",
       "       1.        ])"
      ]
     },
     "execution_count": 8,
     "metadata": {},
     "output_type": "execute_result"
    }
   ],
   "source": [
    "pca = PCA(whiten=True)\n",
    "pca.fit(train_frame)\n",
    "variance = pd.DataFrame(pca.explained_variance_ratio_)\n",
    "np.cumsum(pca.explained_variance_ratio_)"
   ]
  },
  {
   "cell_type": "code",
   "execution_count": 9,
   "metadata": {},
   "outputs": [],
   "source": [
    "pca = PCA(n_components=5,whiten=True)\n",
    "pca = pca.fit(train_frame)\n",
    "dataPCA = pca.transform(train_frame)"
   ]
  },
  {
   "cell_type": "code",
   "execution_count": 10,
   "metadata": {},
   "outputs": [
    {
     "data": {
      "text/plain": [
       "(1157, 5)"
      ]
     },
     "execution_count": 10,
     "metadata": {},
     "output_type": "execute_result"
    }
   ],
   "source": [
    "dataPCA.shape"
   ]
  },
  {
   "cell_type": "code",
   "execution_count": 11,
   "metadata": {},
   "outputs": [],
   "source": [
    " \n",
    "X_train,X_test,y_train,y_test = train_test_split(dataPCA,output_labels,test_size=0.1,random_state=42)"
   ]
  },
  {
   "cell_type": "code",
   "execution_count": 12,
   "metadata": {},
   "outputs": [
    {
     "name": "stdout",
     "output_type": "stream",
     "text": [
      "(1041, 5)\n",
      "(1041, 5)\n",
      "(116, 5)\n",
      "(116, 5)\n"
     ]
    }
   ],
   "source": [
    "print(X_train.shape)\n",
    "print(y_train.shape)\n",
    "print(X_test.shape)\n",
    "print(y_test.shape)"
   ]
  },
  {
   "cell_type": "markdown",
   "metadata": {},
   "source": [
    "### First we try Lasso and Ridge Linear Models,where each model add  L1 & L2 *regularization penalty* respectively to Linear Regression and avoid Overfitting"
   ]
  },
  {
   "cell_type": "code",
   "execution_count": 13,
   "metadata": {},
   "outputs": [],
   "source": [
    "ridge_model = Ridge()\n",
    "ridge_model.fit(X_train,y_train)\n",
    "ridge_predict = ridge_model.predict(X_test)"
   ]
  },
  {
   "cell_type": "code",
   "execution_count": 14,
   "metadata": {},
   "outputs": [
    {
     "name": "stdout",
     "output_type": "stream",
     "text": [
      "Mean squared error: 0.81\n",
      "R2 Score :  0.39596206551960667\n"
     ]
    }
   ],
   "source": [
    "print(\"Mean squared error: %.2f\"\n",
    "      % mean_squared_error(y_test, ridge_predict))\n",
    "print (\"R2 Score : \",ridge_model.score(X_test,y_test))\n"
   ]
  },
  {
   "cell_type": "code",
   "execution_count": 15,
   "metadata": {},
   "outputs": [],
   "source": [
    "lasso_model = Lasso()\n",
    "lasso_model.fit(X_train,y_train)\n",
    "lasso_predict = lasso_model.predict(X_test)"
   ]
  },
  {
   "cell_type": "code",
   "execution_count": 16,
   "metadata": {},
   "outputs": [
    {
     "name": "stdout",
     "output_type": "stream",
     "text": [
      "Mean squared error: 1.37\n",
      "R2 Score :  -0.014371932311444074\n"
     ]
    }
   ],
   "source": [
    "print(\"Mean squared error: %.2f\"\n",
    "      % mean_squared_error(y_test, lasso_predict))\n",
    "print (\"R2 Score : \",lasso_model.score(X_test,y_test))\n"
   ]
  },
  {
   "cell_type": "markdown",
   "metadata": {},
   "source": [
    "### Let's Try Random Forest Regressor may it get good performance"
   ]
  },
  {
   "cell_type": "code",
   "execution_count": 17,
   "metadata": {},
   "outputs": [
    {
     "data": {
      "text/plain": [
       "RandomForestRegressor(bootstrap=True, criterion='mse', max_depth=None,\n",
       "           max_features='auto', max_leaf_nodes=None,\n",
       "           min_impurity_decrease=0.0, min_impurity_split=None,\n",
       "           min_samples_leaf=5, min_samples_split=3,\n",
       "           min_weight_fraction_leaf=0.0, n_estimators=51, n_jobs=1,\n",
       "           oob_score=False, random_state=42, verbose=0, warm_start=False)"
      ]
     },
     "execution_count": 17,
     "metadata": {},
     "output_type": "execute_result"
    }
   ],
   "source": [
    "rf = RandomForestRegressor(n_estimators=51,min_samples_leaf=5,min_samples_split=3,random_state=42)\n",
    "rf.fit(X_train,y_train)"
   ]
  },
  {
   "cell_type": "code",
   "execution_count": 18,
   "metadata": {},
   "outputs": [],
   "source": [
    "rf_predict = rf.predict(X_test)"
   ]
  },
  {
   "cell_type": "code",
   "execution_count": 19,
   "metadata": {},
   "outputs": [
    {
     "name": "stdout",
     "output_type": "stream",
     "text": [
      "Mean squared error: 0.53\n",
      "R2 Score :  0.6032224592615675\n"
     ]
    }
   ],
   "source": [
    "print(\"Mean squared error: %.2f\"\n",
    "      % mean_squared_error(y_test, rf_predict))\n",
    "print (\"R2 Score : \",rf.score(X_test,y_test))\n"
   ]
  },
  {
   "cell_type": "code",
   "execution_count": null,
   "metadata": {},
   "outputs": [],
   "source": []
  }
 ],
 "metadata": {
  "kernelspec": {
   "display_name": "Python 3",
   "language": "python",
   "name": "python3"
  },
  "language_info": {
   "codemirror_mode": {
    "name": "ipython",
    "version": 3
   },
   "file_extension": ".py",
   "mimetype": "text/x-python",
   "name": "python",
   "nbconvert_exporter": "python",
   "pygments_lexer": "ipython3",
   "version": "3.6.5"
  },
  "latex_envs": {
   "LaTeX_envs_menu_present": true,
   "autoclose": false,
   "autocomplete": true,
   "bibliofile": "biblio.bib",
   "cite_by": "apalike",
   "current_citInitial": 1,
   "eqLabelWithNumbers": true,
   "eqNumInitial": 1,
   "hotkeys": {
    "equation": "Ctrl-E",
    "itemize": "Ctrl-I"
   },
   "labels_anchors": false,
   "latex_user_defs": false,
   "report_style_numbering": false,
   "user_envs_cfg": false
  }
 },
 "nbformat": 4,
 "nbformat_minor": 2
}
